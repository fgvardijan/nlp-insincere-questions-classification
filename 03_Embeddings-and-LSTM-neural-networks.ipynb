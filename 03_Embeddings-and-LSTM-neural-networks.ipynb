{
 "cells": [
  {
   "cell_type": "markdown",
   "metadata": {
    "_uuid": "710ed17d0c57bd287be0ee3b2782a53a54510561"
   },
   "source": [
    "## Using Embeddings for Text Representation with Deep Learning Models "
   ]
  },
  {
   "cell_type": "markdown",
   "metadata": {
    "_uuid": "585eec8b444e194eda5a141d2a2316547235ffdf"
   },
   "source": [
    "In this kernel, i will show the steps neccessary to clean the text and ensure maximal text coverage when using embeddings to represent text in format suitable for Deep Learning models. \n",
    "\n",
    "We will discuss LSTM Architecture and how embeddings fit in to boost performance on NLP calssification tasks.\n",
    "\n",
    "Finally, i will train couple of LSTM Neural Networks and compare performances.\n",
    "\n",
    "References:\n",
    "* https://mlwhiz.com/blog/2019/01/17/deeplearning_nlp_preprocess/#more-engineered-features\n",
    "* https://www.kaggle.com/christofhenkel/how-to-preprocessing-when-using-embeddings\n",
    "* https://www.kaggle.com/theoviel/improve-your-score-with-some-text-preprocessing"
   ]
  },
  {
   "cell_type": "code",
   "execution_count": 3,
   "metadata": {
    "_uuid": "b378958a9606ac48fe0dc54e24bed4cd503e0ac7"
   },
   "outputs": [],
   "source": [
    "#imports \n",
    "import os\n",
    "import time\n",
    "import math\n",
    "import numpy as np\n",
    "import pandas as pd\n",
    "import re\n",
    "import gc\n",
    "import operator \n",
    "from tqdm import tqdm\n",
    "import matplotlib.pyplot as plt\n",
    "%matplotlib inline\n",
    "\n",
    "from sklearn.model_selection import train_test_split\n",
    "from sklearn import metrics\n",
    "\n",
    "from gensim.models import KeyedVectors\n",
    "\n",
    "from keras.preprocessing.text import Tokenizer\n",
    "from keras.preprocessing.sequence import pad_sequences\n",
    "from keras.layers import Dense, Input, CuDNNLSTM, LSTM, Embedding, Dropout, Activation, CuDNNGRU, GRU, Conv1D\n",
    "from keras.layers import Bidirectional, GlobalMaxPool1D, GlobalMaxPooling1D, GlobalAveragePooling1D\n",
    "from keras.layers import Input, Embedding, Dense, Conv2D, MaxPool2D, concatenate\n",
    "from keras.layers import Reshape, Flatten, Concatenate, Dropout, SpatialDropout1D\n",
    "from keras.optimizers import Adam\n",
    "from keras.models import Model\n",
    "from keras import backend as K\n",
    "from keras.engine.topology import Layer\n",
    "from keras import initializers, regularizers, constraints, optimizers, layers"
   ]
  },
  {
   "cell_type": "markdown",
   "metadata": {
    "_uuid": "b5f9048e53a5cb91bdaa518d33fda756f1038562"
   },
   "source": [
    "### Vocabulary and Coverage functions"
   ]
  },
  {
   "cell_type": "markdown",
   "metadata": {},
   "source": [
    "Function to track our training vocabulary, which goes through all our text and counts the occurance of the contained words."
   ]
  },
  {
   "cell_type": "code",
   "execution_count": 4,
   "metadata": {
    "_uuid": "c362fc1868aaa53dfc0bd91d453419815eba7c47"
   },
   "outputs": [],
   "source": [
    "# https://www.kaggle.com/christofhenkel/how-to-preprocessing-when-using-embeddings\n",
    "def build_vocab(texts):\n",
    "    sentences = texts.apply(lambda x: x.split()).values\n",
    "    vocab = {}\n",
    "    for sentence in sentences:\n",
    "        for word in sentence:\n",
    "            try:\n",
    "                vocab[word] += 1\n",
    "            except KeyError:\n",
    "                vocab[word] = 1\n",
    "    return vocab"
   ]
  },
  {
   "cell_type": "markdown",
   "metadata": {},
   "source": [
    "Function that checks the intersection between our vocabulary and the embeddings. It will output a list of out of vocabulary (oov) words that we can use to improve our preprocessing"
   ]
  },
  {
   "cell_type": "code",
   "execution_count": 5,
   "metadata": {
    "_uuid": "f35a7213fc9a7e80a7c210d11b3a8094d3a8e07e"
   },
   "outputs": [],
   "source": [
    "def check_coverage(vocab, embeddings_index):\n",
    "    known_words = {}\n",
    "    unknown_words = {}\n",
    "    nb_known_words = 0\n",
    "    nb_unknown_words = 0\n",
    "    for word in vocab.keys():\n",
    "        try:\n",
    "            known_words[word] = embeddings_index[word]\n",
    "            nb_known_words += vocab[word]\n",
    "        except:\n",
    "            unknown_words[word] = vocab[word]\n",
    "            nb_unknown_words += vocab[word]\n",
    "            pass\n",
    "\n",
    "    print('Found embeddings for {:.2%} of vocab'.format(len(known_words) / len(vocab)))\n",
    "    print('Found embeddings for  {:.2%} of all text'.format(nb_known_words / (nb_known_words + nb_unknown_words)))\n",
    "    unknown_words = sorted(unknown_words.items(), key=operator.itemgetter(1))[::-1]\n",
    "\n",
    "    return unknown_words"
   ]
  },
  {
   "cell_type": "markdown",
   "metadata": {
    "_uuid": "a453d10106aea7f6bf3f9bd952f2e02dd7a7472c"
   },
   "source": [
    "### Loading embeddings"
   ]
  },
  {
   "cell_type": "code",
   "execution_count": 6,
   "metadata": {
    "_uuid": "807e734e0ce617480c824f8bf26f0672f38397d5"
   },
   "outputs": [],
   "source": [
    "def load_embed(file):\n",
    "    def get_coefs(word,*arr): \n",
    "        return word, np.asarray(arr, dtype='float32')\n",
    "    \n",
    "    if file == '../input/embeddings/wiki-news-300d-1M/wiki-news-300d-1M.vec':\n",
    "        embeddings_index = dict(get_coefs(*o.split(\" \")) for o in open(file) if len(o)>100)\n",
    "    else:\n",
    "        embeddings_index = dict(get_coefs(*o.split(\" \")) for o in open(file, encoding='latin'))\n",
    "        \n",
    "    return embeddings_index"
   ]
  },
  {
   "cell_type": "markdown",
   "metadata": {},
   "source": [
    "There are words in embeddings that are known with upper letters but not know with lower letter. This functions adds lowercase words where word exist."
   ]
  },
  {
   "cell_type": "code",
   "execution_count": 7,
   "metadata": {},
   "outputs": [],
   "source": [
    "def add_lower(embedding, vocab):\n",
    "    count = 0\n",
    "    for word in vocab:\n",
    "        if word in embedding and word.lower() not in embedding:  \n",
    "            embedding[word.lower()] = embedding[word]\n",
    "            count += 1\n",
    "    print(f\"Added {count} words to embedding\")"
   ]
  },
  {
   "cell_type": "code",
   "execution_count": 8,
   "metadata": {},
   "outputs": [],
   "source": [
    "glove = '../input/embeddings/glove.840B.300d/glove.840B.300d.txt'\n",
    "paragram =  '../input/embeddings/paragram_300_sl999/paragram_300_sl999.txt'\n",
    "wiki_news = '../input/embeddings/wiki-news-300d-1M/wiki-news-300d-1M.vec'"
   ]
  },
  {
   "cell_type": "code",
   "execution_count": 9,
   "metadata": {},
   "outputs": [
    {
     "name": "stdout",
     "output_type": "stream",
     "text": [
      "Extracting GloVe embedding\n"
     ]
    }
   ],
   "source": [
    "print(\"Extracting GloVe embedding\")\n",
    "embed_glove = load_embed(glove)"
   ]
  },
  {
   "cell_type": "markdown",
   "metadata": {},
   "source": [
    "### More Engineered Features\n",
    "\n",
    "We can also add sentence specific features like sentence length, number of unique words etc. as another input layer to give extra information to the Deep Neural Network.\n",
    "\n",
    "![alt text](../images/example_nlp_network_eenginener_features.png \"Deep NN with extra features.\")\n",
    "\n",
    "> This is advanced architecture and I dind't have time to experiment with it.\n",
    "\n",
    "Reference: \n",
    "* https://mlwhiz.com/blog/2019/01/17/deeplearning_nlp_preprocess/#more-engineered-features\n",
    "\n"
   ]
  },
  {
   "cell_type": "code",
   "execution_count": 10,
   "metadata": {},
   "outputs": [],
   "source": [
    "def add_features(df):\n",
    "    df['question_text'] = df['question_text'].apply(lambda x:str(x))\n",
    "    df[\"lower_question_text\"] = df[\"question_text\"].apply(lambda x: x.lower())\n",
    "    df['total_length'] = df['question_text'].apply(len)\n",
    "    df['capitals'] = df['question_text'].apply(lambda comment: sum(1 for c in comment if c.isupper()))\n",
    "    df['caps_vs_length'] = df.apply(lambda row: float(row['capitals'])/float(row['total_length']),\n",
    "                                axis=1)\n",
    "    df['num_words'] = df.question_text.str.count('\\S+')\n",
    "    df['num_unique_words'] = df['question_text'].apply(lambda comment: len(set(w for w in comment.split())))\n",
    "    df['words_vs_unique'] = df['num_unique_words'] / df['num_words'] \n",
    "    return df"
   ]
  },
  {
   "cell_type": "markdown",
   "metadata": {
    "_uuid": "ea10c8e218a1280faa9802bcb7f1117c89ec96f9"
   },
   "source": [
    "## Data Preparation and Cleaning\n",
    "\n",
    "Basic Preprocessing Techniques for text data:\n",
    "* Cleaning Special Characters and Removing Punctuations\n",
    "* Cleaning Numbers\n",
    "* Removing Misspells\n",
    "* Removing Contractions\n",
    "\n",
    "Difference in preprocessing compared to conventional methods is that:\n",
    "1. we don't use standard preprocessing steps like stemming or stopword removal as we loose valuable information\n",
    "1. we need to get our corpus vocabulary as close as to the embeddings as possible\n",
    "\n",
    "So, here goal of preprocessing is to increase embeddings coverage, i.e. to have most words in our corpus covered by pretrained embeddings. "
   ]
  },
  {
   "cell_type": "markdown",
   "metadata": {},
   "source": [
    "## Load data"
   ]
  },
  {
   "cell_type": "code",
   "execution_count": 11,
   "metadata": {
    "_uuid": "63cb21525251b060aeb309e7be4b48772f8720f5",
    "scrolled": true
   },
   "outputs": [
    {
     "name": "stdout",
     "output_type": "stream",
     "text": [
      "Train shape :  (1306122, 3)\n"
     ]
    }
   ],
   "source": [
    "train_df = pd.read_csv(\"../input/train.csv\")#[:100000]\n",
    "print(\"Train shape : \",train_df.shape)"
   ]
  },
  {
   "cell_type": "code",
   "execution_count": 12,
   "metadata": {
    "_uuid": "2b23f5bcfd9bd3d47652ac34454f842ae7f6726a"
   },
   "outputs": [
    {
     "data": {
      "text/html": [
       "<div>\n",
       "<style scoped>\n",
       "    .dataframe tbody tr th:only-of-type {\n",
       "        vertical-align: middle;\n",
       "    }\n",
       "\n",
       "    .dataframe tbody tr th {\n",
       "        vertical-align: top;\n",
       "    }\n",
       "\n",
       "    .dataframe thead th {\n",
       "        text-align: right;\n",
       "    }\n",
       "</style>\n",
       "<table border=\"1\" class=\"dataframe\">\n",
       "  <thead>\n",
       "    <tr style=\"text-align: right;\">\n",
       "      <th></th>\n",
       "      <th>qid</th>\n",
       "      <th>question_text</th>\n",
       "      <th>target</th>\n",
       "    </tr>\n",
       "  </thead>\n",
       "  <tbody>\n",
       "    <tr>\n",
       "      <th>0</th>\n",
       "      <td>00002165364db923c7e6</td>\n",
       "      <td>How did Quebec nationalists see their province...</td>\n",
       "      <td>0</td>\n",
       "    </tr>\n",
       "    <tr>\n",
       "      <th>1</th>\n",
       "      <td>000032939017120e6e44</td>\n",
       "      <td>Do you have an adopted dog, how would you enco...</td>\n",
       "      <td>0</td>\n",
       "    </tr>\n",
       "    <tr>\n",
       "      <th>2</th>\n",
       "      <td>0000412ca6e4628ce2cf</td>\n",
       "      <td>Why does velocity affect time? Does velocity a...</td>\n",
       "      <td>0</td>\n",
       "    </tr>\n",
       "    <tr>\n",
       "      <th>3</th>\n",
       "      <td>000042bf85aa498cd78e</td>\n",
       "      <td>How did Otto von Guericke used the Magdeburg h...</td>\n",
       "      <td>0</td>\n",
       "    </tr>\n",
       "    <tr>\n",
       "      <th>4</th>\n",
       "      <td>0000455dfa3e01eae3af</td>\n",
       "      <td>Can I convert montra helicon D to a mountain b...</td>\n",
       "      <td>0</td>\n",
       "    </tr>\n",
       "  </tbody>\n",
       "</table>\n",
       "</div>"
      ],
      "text/plain": [
       "                    qid  ...   target\n",
       "0  00002165364db923c7e6  ...        0\n",
       "1  000032939017120e6e44  ...        0\n",
       "2  0000412ca6e4628ce2cf  ...        0\n",
       "3  000042bf85aa498cd78e  ...        0\n",
       "4  0000455dfa3e01eae3af  ...        0\n",
       "\n",
       "[5 rows x 3 columns]"
      ]
     },
     "execution_count": 12,
     "metadata": {},
     "output_type": "execute_result"
    }
   ],
   "source": [
    "train_df.head()"
   ]
  },
  {
   "cell_type": "code",
   "execution_count": 13,
   "metadata": {},
   "outputs": [],
   "source": [
    "# here we could add features to describe some characteristics of the the question\n",
    "#train_df = add_features(train_df).head()"
   ]
  },
  {
   "cell_type": "markdown",
   "metadata": {},
   "source": [
    "### Starting point\n",
    "Check how many words in our corpus are covered by embeddings"
   ]
  },
  {
   "cell_type": "code",
   "execution_count": 14,
   "metadata": {},
   "outputs": [],
   "source": [
    "vocab = build_vocab(train_df['question_text'])"
   ]
  },
  {
   "cell_type": "code",
   "execution_count": 15,
   "metadata": {},
   "outputs": [
    {
     "name": "stdout",
     "output_type": "stream",
     "text": [
      "Coverage with Glove : \n",
      "Found embeddings for 33.02% of vocab\n",
      "Found embeddings for  88.15% of all text\n"
     ]
    }
   ],
   "source": [
    "print(\"Coverage with Glove : \")\n",
    "oov_glove = check_coverage(vocab, embed_glove)"
   ]
  },
  {
   "cell_type": "markdown",
   "metadata": {},
   "source": [
    "Only 33% of our vocabulary will have embeddings, making 12% of our data more or less useless. So lets have a look and start improving. For this we can easily have a look at the top oov words."
   ]
  },
  {
   "cell_type": "markdown",
   "metadata": {},
   "source": [
    "Let's have all words in lowercase. We lost a bit of information but it makes it easier to clean the misspells later. We'll also expand embeddings file with words in lower case when word already exists but with capitalized letters."
   ]
  },
  {
   "cell_type": "code",
   "execution_count": 16,
   "metadata": {},
   "outputs": [],
   "source": [
    "train_df['lowered_question'] = train_df['question_text'].apply(lambda x: x.lower())"
   ]
  },
  {
   "cell_type": "code",
   "execution_count": 17,
   "metadata": {},
   "outputs": [
    {
     "name": "stdout",
     "output_type": "stream",
     "text": [
      "Coverage with Glove : \n",
      "Found embeddings for 33.02% of vocab\n",
      "Found embeddings for  88.15% of all text\n",
      "Added 14725 words to embedding\n",
      "Found embeddings for 33.28% of vocab\n",
      "Found embeddings for  88.16% of all text\n"
     ]
    }
   ],
   "source": [
    "print(\"Coverage with Glove : \")\n",
    "oov_glove = check_coverage(vocab, embed_glove)\n",
    "add_lower(embed_glove, vocab)\n",
    "oov_glove = check_coverage(vocab, embed_glove)"
   ]
  },
  {
   "cell_type": "markdown",
   "metadata": {},
   "source": [
    "Coverage improved a bit. Let's see what is wrong?"
   ]
  },
  {
   "cell_type": "code",
   "execution_count": 18,
   "metadata": {},
   "outputs": [
    {
     "data": {
      "text/plain": [
       "[('India?', 16384),\n",
       " ('it?', 12900),\n",
       " (\"What's\", 12425),\n",
       " ('do?', 8753),\n",
       " ('life?', 7753),\n",
       " ('you?', 6295),\n",
       " ('me?', 6202),\n",
       " ('them?', 6140),\n",
       " ('time?', 5716),\n",
       " ('world?', 5386)]"
      ]
     },
     "execution_count": 18,
     "metadata": {},
     "output_type": "execute_result"
    }
   ],
   "source": [
    "oov_glove[:10]"
   ]
  },
  {
   "cell_type": "markdown",
   "metadata": {},
   "source": [
    "First faults appearing are :\n",
    "* Contractions\n",
    "* Words with punctuation in them"
   ]
  },
  {
   "cell_type": "markdown",
   "metadata": {},
   "source": [
    "#### Contractions and Special Characters"
   ]
  },
  {
   "cell_type": "code",
   "execution_count": 19,
   "metadata": {},
   "outputs": [],
   "source": [
    "contraction_mapping = {\"ain't\": \"is not\", \"aren't\": \"are not\",\"can't\": \"cannot\", \"'cause\": \"because\", \"could've\": \"could have\", \"couldn't\": \"could not\", \"didn't\": \"did not\",  \"doesn't\": \"does not\", \"don't\": \"do not\", \"hadn't\": \"had not\", \"hasn't\": \"has not\", \"haven't\": \"have not\", \"he'd\": \"he would\",\"he'll\": \"he will\", \"he's\": \"he is\", \"how'd\": \"how did\", \"how'd'y\": \"how do you\", \"how'll\": \"how will\", \"how's\": \"how is\",  \"I'd\": \"I would\", \"I'd've\": \"I would have\", \"I'll\": \"I will\", \"I'll've\": \"I will have\",\"I'm\": \"I am\", \"I've\": \"I have\", \"i'd\": \"i would\", \"i'd've\": \"i would have\", \"i'll\": \"i will\",  \"i'll've\": \"i will have\",\"i'm\": \"i am\", \"i've\": \"i have\", \"isn't\": \"is not\", \"it'd\": \"it would\", \"it'd've\": \"it would have\", \"it'll\": \"it will\", \"it'll've\": \"it will have\",\"it's\": \"it is\", \"let's\": \"let us\", \"ma'am\": \"madam\", \"mayn't\": \"may not\", \"might've\": \"might have\",\"mightn't\": \"might not\",\"mightn't've\": \"might not have\", \"must've\": \"must have\", \"mustn't\": \"must not\", \"mustn't've\": \"must not have\", \"needn't\": \"need not\", \"needn't've\": \"need not have\",\"o'clock\": \"of the clock\", \"oughtn't\": \"ought not\", \"oughtn't've\": \"ought not have\", \"shan't\": \"shall not\", \"sha'n't\": \"shall not\", \"shan't've\": \"shall not have\", \"she'd\": \"she would\", \"she'd've\": \"she would have\", \"she'll\": \"she will\", \"she'll've\": \"she will have\", \"she's\": \"she is\", \"should've\": \"should have\", \"shouldn't\": \"should not\", \"shouldn't've\": \"should not have\", \"so've\": \"so have\",\"so's\": \"so as\", \"this's\": \"this is\",\"that'd\": \"that would\", \"that'd've\": \"that would have\", \"that's\": \"that is\", \"there'd\": \"there would\", \"there'd've\": \"there would have\", \"there's\": \"there is\", \"here's\": \"here is\",\"they'd\": \"they would\", \"they'd've\": \"they would have\", \"they'll\": \"they will\", \"they'll've\": \"they will have\", \"they're\": \"they are\", \"they've\": \"they have\", \"to've\": \"to have\", \"wasn't\": \"was not\", \"we'd\": \"we would\", \"we'd've\": \"we would have\", \"we'll\": \"we will\", \"we'll've\": \"we will have\", \"we're\": \"we are\", \"we've\": \"we have\", \"weren't\": \"were not\", \"what'll\": \"what will\", \"what'll've\": \"what will have\", \"what're\": \"what are\",  \"what's\": \"what is\", \"what've\": \"what have\", \"when's\": \"when is\", \"when've\": \"when have\", \"where'd\": \"where did\", \"where's\": \"where is\", \"where've\": \"where have\", \"who'll\": \"who will\", \"who'll've\": \"who will have\", \"who's\": \"who is\", \"who've\": \"who have\", \"why's\": \"why is\", \"why've\": \"why have\", \"will've\": \"will have\", \"won't\": \"will not\", \"won't've\": \"will not have\", \"would've\": \"would have\", \"wouldn't\": \"would not\", \"wouldn't've\": \"would not have\", \"y'all\": \"you all\", \"y'all'd\": \"you all would\",\"y'all'd've\": \"you all would have\",\"y'all're\": \"you all are\",\"y'all've\": \"you all have\",\"you'd\": \"you would\", \"you'd've\": \"you would have\", \"you'll\": \"you will\", \"you'll've\": \"you will have\", \"you're\": \"you are\", \"you've\": \"you have\" }"
   ]
  },
  {
   "cell_type": "code",
   "execution_count": 20,
   "metadata": {},
   "outputs": [],
   "source": [
    "def known_contractions(embed):\n",
    "    known = []\n",
    "    for contract in contraction_mapping:\n",
    "        if contract in embed:\n",
    "            known.append(contract)\n",
    "    return known"
   ]
  },
  {
   "cell_type": "code",
   "execution_count": 21,
   "metadata": {},
   "outputs": [
    {
     "name": "stdout",
     "output_type": "stream",
     "text": [
      "- Known Contractions -\n",
      "   Glove :\n",
      "[\"can't\", \"'cause\", \"didn't\", \"doesn't\", \"don't\", \"I'd\", \"I'll\", \"I'm\", \"I've\", \"i'd\", \"i'll\", \"i'm\", \"i've\", \"it's\", \"ma'am\", \"o'clock\", \"that's\", \"you'll\", \"you're\"]\n"
     ]
    }
   ],
   "source": [
    "print(\"- Known Contractions -\")\n",
    "print(\"   Glove :\")\n",
    "print(known_contractions(embed_glove))"
   ]
  },
  {
   "cell_type": "markdown",
   "metadata": {},
   "source": [
    "Not a lot of contractions are known in embeddings. So, let's replace them in our corpus. "
   ]
  },
  {
   "cell_type": "code",
   "execution_count": 22,
   "metadata": {},
   "outputs": [],
   "source": [
    "def clean_contractions(text, mapping):\n",
    "    specials = [\"’\", \"‘\", \"´\", \"`\"]\n",
    "    for s in specials:\n",
    "        text = text.replace(s, \"'\")\n",
    "    text = ' '.join([mapping[t] if t in mapping else t for t in text.split(\" \")])\n",
    "    return text"
   ]
  },
  {
   "cell_type": "code",
   "execution_count": 23,
   "metadata": {},
   "outputs": [],
   "source": [
    "train_df['treated_question'] = train_df['lowered_question'].apply(lambda x: clean_contractions(x, contraction_mapping))"
   ]
  },
  {
   "cell_type": "code",
   "execution_count": 24,
   "metadata": {},
   "outputs": [
    {
     "name": "stdout",
     "output_type": "stream",
     "text": [
      "Coverage with Glove : \n",
      "Found embeddings for 30.79% of vocab\n",
      "Found embeddings for  88.56% of all text\n"
     ]
    }
   ],
   "source": [
    "vocab = build_vocab(train_df['treated_question'])\n",
    "print(\"Coverage with Glove : \")\n",
    "oov_glove = check_coverage(vocab, embed_glove)"
   ]
  },
  {
   "cell_type": "markdown",
   "metadata": {},
   "source": [
    "Small improvemnt in words found in embedding, we lost a bit of coverage due to lowercase of all words. Now, let us deal with special characters."
   ]
  },
  {
   "cell_type": "code",
   "execution_count": 25,
   "metadata": {},
   "outputs": [],
   "source": [
    "punct = \"/-'?!.,#$%\\'()*+-/:;<=>@[\\\\]^_`{|}~\" + '\"\"“”’' + '∞θ÷α•à−β∅³π‘₹´°£€\\×™√²—–&'"
   ]
  },
  {
   "cell_type": "code",
   "execution_count": 26,
   "metadata": {},
   "outputs": [],
   "source": [
    "def unknown_punct(embed, punct):\n",
    "    unknown = ''\n",
    "    for p in punct:\n",
    "        if p not in embed:\n",
    "            unknown += p\n",
    "            unknown += ' '\n",
    "    return unknown"
   ]
  },
  {
   "cell_type": "code",
   "execution_count": 27,
   "metadata": {},
   "outputs": [
    {
     "name": "stdout",
     "output_type": "stream",
     "text": [
      "- Unknown Contractions -\n",
      "   Glove :\n",
      "“ ” ’ ∞ θ ÷ α • à − β ∅ ³ π ‘ ₹ ´ ° £ € × ™ √ ² — – \n"
     ]
    }
   ],
   "source": [
    "print(\"- Unknown Contractions -\")\n",
    "print(\"   Glove :\")\n",
    "print(unknown_punct(embed_glove, punct))"
   ]
  },
  {
   "cell_type": "markdown",
   "metadata": {},
   "source": [
    "Some characters are unknown in embeddings. So we need to modify our corpus to include only known ones:\n",
    "* replace unknown characters with known ones\n",
    "* make sure to have spaces between words and punctuation"
   ]
  },
  {
   "cell_type": "code",
   "execution_count": 28,
   "metadata": {},
   "outputs": [],
   "source": [
    "punct_mapping = {\"‘\": \"'\", \"₹\": \"e\", \"´\": \"'\", \"°\": \"\", \"€\": \"e\", \"™\": \"tm\", \"√\": \" sqrt \", \"×\": \"x\", \"²\": \"2\", \"—\": \"-\", \"–\": \"-\", \"’\": \"'\", \"_\": \"-\", \"`\": \"'\", '“': '\"', '”': '\"', '“': '\"', \"£\": \"e\", '∞': 'infinity', 'θ': 'theta', '÷': '/', 'α': 'alpha', '•': '.', 'à': 'a', '−': '-', 'β': 'beta', '∅': '', '³': '3', 'π': 'pi', }"
   ]
  },
  {
   "cell_type": "code",
   "execution_count": 29,
   "metadata": {},
   "outputs": [],
   "source": [
    "def clean_special_chars(text, punct, mapping):\n",
    "    for p in mapping:\n",
    "        text = text.replace(p, mapping[p])\n",
    "    \n",
    "    for p in punct:\n",
    "        text = text.replace(p, f' {p} ')\n",
    "    \n",
    "    specials = {'\\u200b': ' ', '…': ' ... ', '\\ufeff': '', 'करना': '', 'है': ''}  # Other special characters that I have to deal with in last\n",
    "    for s in specials:\n",
    "        text = text.replace(s, specials[s])\n",
    "    \n",
    "    return text"
   ]
  },
  {
   "cell_type": "code",
   "execution_count": 30,
   "metadata": {},
   "outputs": [],
   "source": [
    "train_df['treated_question'] = train_df['treated_question'].apply(lambda x: clean_special_chars(x, punct, punct_mapping))"
   ]
  },
  {
   "cell_type": "code",
   "execution_count": 31,
   "metadata": {},
   "outputs": [
    {
     "name": "stdout",
     "output_type": "stream",
     "text": [
      "Coverage with Glove : \n",
      "Found embeddings for 69.52% of vocab\n",
      "Found embeddings for  99.58% of all text\n"
     ]
    }
   ],
   "source": [
    "vocab = build_vocab(train_df['treated_question'])\n",
    "print(\"Coverage with Glove : \")\n",
    "oov_glove = check_coverage(vocab, embed_glove)"
   ]
  },
  {
   "cell_type": "markdown",
   "metadata": {},
   "source": [
    "Nice! We've imporved coverage and now almost 70% of our vocabulary is covered by embeddings, making 0.5% of our data uncovered. Let's have a look at the top oov words."
   ]
  },
  {
   "cell_type": "code",
   "execution_count": 32,
   "metadata": {},
   "outputs": [
    {
     "data": {
      "text/plain": [
       "[('quorans', 858),\n",
       " ('brexit', 524),\n",
       " ('cryptocurrencies', 499),\n",
       " ('redmi', 383),\n",
       " ('coinbase', 149),\n",
       " ('oneplus', 139),\n",
       " ('uceed', 123),\n",
       " ('demonetisation', 115),\n",
       " ('bhakts', 115),\n",
       " ('upwork', 111),\n",
       " ('pokémon', 109),\n",
       " ('machedo', 108),\n",
       " ('gdpr', 107),\n",
       " ('adityanath', 106),\n",
       " ('boruto', 102),\n",
       " ('bnbr', 100),\n",
       " ('alshamsi', 92),\n",
       " ('dceu', 90),\n",
       " ('litecoin', 87),\n",
       " ('iiest', 86),\n",
       " ('unacademy', 86),\n",
       " ('sjws', 84),\n",
       " ('qoura', 82),\n",
       " ('zerodha', 80),\n",
       " ('tensorflow', 74),\n",
       " ('fiancé', 73),\n",
       " ('doklam', 70),\n",
       " ('kavalireddi', 69),\n",
       " ('lnmiit', 68),\n",
       " ('muoet', 66),\n",
       " ('nicmar', 62),\n",
       " ('vajiram', 60),\n",
       " ('adhaar', 59),\n",
       " ('zebpay', 58),\n",
       " ('elitmus', 57),\n",
       " ('srmjee', 56),\n",
       " ('hackerrank', 54),\n",
       " ('altcoin', 54),\n",
       " ('altcoins', 54),\n",
       " ('jiren', 52),\n",
       " ('awdhesh', 52),\n",
       " ('ryzen', 50),\n",
       " ('koinex', 48),\n",
       " ('baahubali', 48),\n",
       " ('mhcet', 45),\n",
       " ('binance', 45),\n",
       " ('byju', 44),\n",
       " ('srmjeee', 42),\n",
       " ('beerus', 41),\n",
       " ('ftre', 40),\n",
       " ('skripal', 40),\n",
       " ('sgsits', 40),\n",
       " ('mhtcet', 38),\n",
       " ('hotstar', 38),\n",
       " ('gurugram', 38),\n",
       " ('nanodegree', 38),\n",
       " ('bmsce', 37),\n",
       " ('ravula', 36),\n",
       " ('microservices', 36),\n",
       " ('jiofi', 36),\n",
       " ('bipc', 36),\n",
       " ('sarahah', 34),\n",
       " ('usict', 34),\n",
       " ('swachh', 34),\n",
       " ('obor', 34),\n",
       " ('lbsnaa', 33),\n",
       " ('patreon', 33),\n",
       " ('zenfone', 33),\n",
       " ('clickbait', 33),\n",
       " ('reactjs', 32),\n",
       " ('bittrex', 31),\n",
       " ('chromecast', 31),\n",
       " ('pessat', 30),\n",
       " ('diestm', 30),\n",
       " ('dream11', 30),\n",
       " ('jungkook', 29),\n",
       " ('iisers', 29),\n",
       " ('demonitisation', 29),\n",
       " ('deepmind', 28),\n",
       " ('kalpit', 28),\n",
       " ('bitconnect', 28),\n",
       " ('aktu', 28),\n",
       " ('aiats', 27),\n",
       " ('trumpcare', 27),\n",
       " ('hbtu', 26),\n",
       " ('xxxtentacion', 26),\n",
       " ('airpods', 26),\n",
       " ('mmmut', 26),\n",
       " ('wannacry', 26),\n",
       " ('onedrive', 25),\n",
       " ('despacito', 25),\n",
       " ('rlwl', 25),\n",
       " ('nlus', 25),\n",
       " ('vssut', 25),\n",
       " ('irodov', 24),\n",
       " ('electroneum', 24),\n",
       " ('zamasu', 24),\n",
       " ('fz25', 24),\n",
       " ('são', 24),\n",
       " ('arrowverse', 24)]"
      ]
     },
     "execution_count": 32,
     "metadata": {},
     "output_type": "execute_result"
    }
   ],
   "source": [
    "oov_glove[:100]"
   ]
  },
  {
   "cell_type": "markdown",
   "metadata": {},
   "source": [
    "What's still missing ?\n",
    "* Unknown words\n",
    "* Acronyms\n",
    "* Spelling mistakes"
   ]
  },
  {
   "cell_type": "markdown",
   "metadata": {},
   "source": [
    "#### Manually correct  most frequent mispells\n",
    "\n",
    "For example, here are some mistakes and their frequency:\n",
    "* demonetisation: 115 times\n",
    "* qoura : 82 times\n",
    "* fiancé : 73 times\n",
    "* demonitisation : 29 times\n",
    "* ..."
   ]
  },
  {
   "cell_type": "code",
   "execution_count": 33,
   "metadata": {},
   "outputs": [],
   "source": [
    "mispell_dict = {'colour': 'color', 'centre': 'center', 'favourite': 'favorite', 'travelling': 'traveling', 'counselling': 'counseling', 'theatre': 'theater', 'cancelled': 'canceled', 'labour': 'labor', 'organisation': 'organization', 'wwii': 'world war 2', 'citicise': 'criticize', 'youtu ': 'youtube ', 'Qoura': 'Quora', 'qoura': 'quora', 'sallary': 'salary', 'Whta': 'What', 'narcisist': 'narcissist', 'howdo': 'how do', 'whatare': 'what are', 'howcan': 'how can', 'howmuch': 'how much', 'howmany': 'how many', 'whydo': 'why do', 'doI': 'do I', 'theBest': 'the best', 'howdoes': 'how does', 'mastrubation': 'masturbation', 'mastrubate': 'masturbate', \"mastrubating\": 'masturbating', 'pennis': 'penis', 'Etherium': 'Ethereum', 'narcissit': 'narcissist', 'bigdata': 'big data', '2k17': '2017', '2k18': '2018', 'qouta': 'quota', 'exboyfriend': 'ex boyfriend', 'airhostess': 'air hostess', \"whst\": 'what', 'watsapp': 'whatsapp', 'demonitisation': 'demonetization', 'demonitization': 'demonetization', 'demonetisation': 'demonetization', 'pokémon': 'pokemon'}"
   ]
  },
  {
   "cell_type": "code",
   "execution_count": 34,
   "metadata": {},
   "outputs": [],
   "source": [
    "def correct_spelling(x, dic):\n",
    "    for word in dic.keys():\n",
    "        x = x.replace(word, dic[word])\n",
    "    return x"
   ]
  },
  {
   "cell_type": "code",
   "execution_count": 35,
   "metadata": {},
   "outputs": [],
   "source": [
    "# Clean misspellings\n",
    "train_df[\"treated_question\"] = train_df[\"treated_question\"].apply(lambda x: correct_spelling(x, mispell_dict))"
   ]
  },
  {
   "cell_type": "code",
   "execution_count": 36,
   "metadata": {},
   "outputs": [
    {
     "name": "stdout",
     "output_type": "stream",
     "text": [
      "Coverage with Glove : \n",
      "Found embeddings for 69.52% of vocab\n",
      "Found embeddings for  99.58% of all text\n"
     ]
    }
   ],
   "source": [
    "vocab = build_vocab(train_df['treated_question'])\n",
    "print(\"Coverage with Glove : \")\n",
    "oov_glove = check_coverage(vocab, embed_glove)"
   ]
  },
  {
   "cell_type": "markdown",
   "metadata": {},
   "source": [
    "Great, we've imporved coverage even more and now only 0.4% of our data uncovered. Let's have a look at the top oov words."
   ]
  },
  {
   "cell_type": "code",
   "execution_count": 37,
   "metadata": {},
   "outputs": [
    {
     "data": {
      "text/plain": [
       "[('quorans', 858),\n",
       " ('brexit', 524),\n",
       " ('cryptocurrencies', 499),\n",
       " ('redmi', 383),\n",
       " ('coinbase', 149),\n",
       " ('oneplus', 139),\n",
       " ('uceed', 123),\n",
       " ('bhakts', 115),\n",
       " ('upwork', 111),\n",
       " ('machedo', 108),\n",
       " ('gdpr', 107),\n",
       " ('adityanath', 106),\n",
       " ('boruto', 102),\n",
       " ('bnbr', 100),\n",
       " ('alshamsi', 92),\n",
       " ('dceu', 90),\n",
       " ('litecoin', 87),\n",
       " ('iiest', 86),\n",
       " ('unacademy', 86),\n",
       " ('sjws', 84)]"
      ]
     },
     "execution_count": 37,
     "metadata": {},
     "output_type": "execute_result"
    }
   ],
   "source": [
    "oov_glove[:20]"
   ]
  },
  {
   "cell_type": "markdown",
   "metadata": {},
   "source": [
    "We can additinally convert some object names to generic items:\n",
    "* cryptocurrencies: cryptocurrency,\n",
    "* coinbase: 'marketplace',\n",
    "* quorans: 'comunity',\n",
    "* redmi , oneplus: 'mobilephone',\n",
    "* gdpr: regulation,\n",
    "* litecoin -> cryptocurrency\n",
    "* fortnite, pubg -> game"
   ]
  },
  {
   "cell_type": "code",
   "execution_count": 38,
   "metadata": {},
   "outputs": [],
   "source": [
    "generic_words= { 'cryptocurrencies': 'cryptocurrency', 'coinbase': 'marketplace', 'quorans': 'comunity', 'redmi': 'mobilephone',\n",
    "                 'oneplus': 'mobilephone', 'gdpr': 'regulation', 'litecoin': 'cryptocurrency' \n",
    "}"
   ]
  },
  {
   "cell_type": "code",
   "execution_count": 39,
   "metadata": {},
   "outputs": [],
   "source": [
    "# Replace with generic words\n",
    "train_df[\"treated_question\"] = train_df[\"treated_question\"].apply(lambda x: correct_spelling(x, generic_words))"
   ]
  },
  {
   "cell_type": "code",
   "execution_count": 40,
   "metadata": {},
   "outputs": [
    {
     "name": "stdout",
     "output_type": "stream",
     "text": [
      "Coverage with Glove : \n",
      "Found embeddings for 69.52% of vocab\n",
      "Found embeddings for  99.59% of all text\n"
     ]
    }
   ],
   "source": [
    "vocab = build_vocab(train_df['treated_question'])\n",
    "print(\"Coverage with Glove : \")\n",
    "oov_glove = check_coverage(vocab, embed_glove)"
   ]
  },
  {
   "cell_type": "code",
   "execution_count": 41,
   "metadata": {},
   "outputs": [
    {
     "data": {
      "text/plain": [
       "[('brexit', 524),\n",
       " ('uceed', 123),\n",
       " ('bhakts', 115),\n",
       " ('upwork', 111),\n",
       " ('machedo', 108),\n",
       " ('adityanath', 106),\n",
       " ('boruto', 102),\n",
       " ('bnbr', 100),\n",
       " ('alshamsi', 92),\n",
       " ('dceu', 90),\n",
       " ('iiest', 86),\n",
       " ('unacademy', 86),\n",
       " ('sjws', 84),\n",
       " ('qoura', 82),\n",
       " ('zerodha', 80),\n",
       " ('tensorflow', 74),\n",
       " ('fiancé', 73),\n",
       " ('doklam', 70),\n",
       " ('kavalireddi', 69),\n",
       " ('lnmiit', 68)]"
      ]
     },
     "execution_count": 41,
     "metadata": {},
     "output_type": "execute_result"
    }
   ],
   "source": [
    "oov_glove[:20]"
   ]
  },
  {
   "cell_type": "markdown",
   "metadata": {},
   "source": [
    "Looks good, no obvious words we could easily fix. "
   ]
  },
  {
   "cell_type": "markdown",
   "metadata": {},
   "source": [
    "## Representing Data as Sequences\n",
    "\n",
    "Since machines cannot understand words they expect data in numerical form. So we would need to represent text data as a series of numbers. \n",
    "\n",
    "We will do this in few steps:\n",
    "1. __Tokenization__ - basically it splits a sentence into words. The tokenizer once fitted to the data also keeps an index of words (dictionary of words which we can use to assign a unique number to a word).\n",
    "    * e.g., \"I love cats and love dogs\" will become [\"I\",\"love\",\"cats\",\"and\",\"dogs\"]\n",
    "    * with index, e.g., {1:\"I\",2:\"love\",3:\"cats\",4:\"and\",5:\"dogs\"}\n",
    "    * each senteces is represented as this chain of index and feed into our LSTM, e.g., [1,2,3,4,2,5]\n",
    "2. __Padding__ - machine learning model expects that each sequence (each question) will be of the same length (same number of words/tokens), so we pad all questions to desired length, i.e. fill shorter questions with zeros, and trim longer questions to maxlen\n",
    "    * question #1: [8,9,3,7,3,6,3,6,3,6,2,3,4,9]\n",
    "    * question #2: [1,2]\n",
    "3. __Embedding__ - embedding is a dictionary in which the key is the word and the value is the word vector, a np.array of length 300. Embedding is matrix of words that exits in our text will be used by Deep Learning network to make sense of the sentence.\n"
   ]
  },
  {
   "cell_type": "markdown",
   "metadata": {},
   "source": [
    "__Check length of sentences to determine suitable maxlen__"
   ]
  },
  {
   "cell_type": "code",
   "execution_count": 42,
   "metadata": {},
   "outputs": [],
   "source": [
    "totalNumWords = train_df.question_text.str.count('\\S+')"
   ]
  },
  {
   "cell_type": "code",
   "execution_count": 43,
   "metadata": {},
   "outputs": [
    {
     "data": {
      "image/png": "[encoded data removed]",
      "text/plain": [
       "<Figure size 432x288 with 1 Axes>"
      ]
     },
     "metadata": {},
     "output_type": "display_data"
    }
   ],
   "source": [
    "plt.hist(totalNumWords,bins = np.arange(0,100,10))\n",
    "plt.show()"
   ]
  },
  {
   "cell_type": "code",
   "execution_count": 44,
   "metadata": {},
   "outputs": [
    {
     "data": {
      "image/png": "[encoded data removed]",
      "text/plain": [
       "<Figure size 432x288 with 1 Axes>"
      ]
     },
     "metadata": {},
     "output_type": "display_data"
    }
   ],
   "source": [
    "# Check right tail\n",
    "plt.hist(totalNumWords,bins = np.arange(60,80,5))#[0,50,100,150,200,250,300,350,400])#,450,500,550,600,650,700,750,800,850,900])\n",
    "plt.show()"
   ]
  },
  {
   "cell_type": "markdown",
   "metadata": {},
   "source": [
    "As we can see, most of the questions have about 20 words. We could set the \"maxlen\" to 20, but to have better representation for longer questions let's set it to 70 to cover all words in question. But, this is something we could experiment and see what is the best number."
   ]
  },
  {
   "cell_type": "markdown",
   "metadata": {},
   "source": [
    "### Basic parameters"
   ]
  },
  {
   "cell_type": "code",
   "execution_count": 45,
   "metadata": {},
   "outputs": [],
   "source": [
    "embed_size = 300 # how big is each word vector\n",
    "max_features = 120000 # how many unique words to use (i.e num rows in embedding vector)\n",
    "maxlen = 70 # max number of words in a question to use\n",
    "batch_size = 512 # how many samples to process at once\n",
    "n_epochs = 5 # how many times to iterate over all samples\n",
    "n_splits = 5 # Number of K-fold Splits\n",
    "SEED = 10\n",
    "debug =0"
   ]
  },
  {
   "cell_type": "markdown",
   "metadata": {},
   "source": [
    "#### Tokenize and pad sequences\n",
    "As discussed above, this step splits questions into words, represents questions as sequences words by using word_index and pads all sequences to same length."
   ]
  },
  {
   "cell_type": "code",
   "execution_count": 46,
   "metadata": {},
   "outputs": [],
   "source": [
    "def tokenize_pad(X):\n",
    "    t = Tokenizer(num_words=max_features)\n",
    "    t.fit_on_texts(X)\n",
    "    X = t.texts_to_sequences(X)\n",
    "    X = pad_sequences(X, maxlen=maxlen)\n",
    "    return X, t.word_index\n",
    "\n",
    "X, word_index = tokenize_pad(train_df['treated_question'])"
   ]
  },
  {
   "cell_type": "code",
   "execution_count": 47,
   "metadata": {},
   "outputs": [],
   "source": [
    "## Get the target values\n",
    "y = train_df['target'].values"
   ]
  },
  {
   "cell_type": "code",
   "execution_count": 48,
   "metadata": {},
   "outputs": [],
   "source": [
    "# Split to train and val\n",
    "X_train, X_val, y_train, y_val = train_test_split(X, y, test_size=0.08, random_state=2018)"
   ]
  },
  {
   "cell_type": "code",
   "execution_count": 49,
   "metadata": {},
   "outputs": [
    {
     "name": "stdout",
     "output_type": "stream",
     "text": [
      "Training on 1201632 texts\n",
      "Validating on 104490 texts\n"
     ]
    }
   ],
   "source": [
    "print(f\"Training on {X_train.shape[0]} texts\")\n",
    "print(f\"Validating on {X_val.shape[0]} texts\")"
   ]
  },
  {
   "cell_type": "markdown",
   "metadata": {},
   "source": [
    "#### Embeddings\n",
    "\n",
    "This is an advanced step to enrich embeddings. We use GLoVE pretrained vectors which are trained on the Wikipedia corpus. So, some of the words that might be present in our data might not be present in the embeddings. To enrich them we can:\n",
    "* convert the words to lowercase in embedding (‘USA’, ‘usa’ and ‘Usa’)\n",
    "* derive value by adding extra information to the embeddings using some _domain knowledge_\n",
    "* adding _polarity_ and _subjectivity_ of a word from the TextBlob package\n"
   ]
  },
  {
   "cell_type": "code",
   "execution_count": 50,
   "metadata": {},
   "outputs": [],
   "source": [
    "from textblob import TextBlob\n",
    "def make_enriched_embed_matrix(word_index,embeddings_index):\n",
    "    all_embs = np.stack(embeddings_index.values())\n",
    "    emb_mean,emb_std = all_embs.mean(), all_embs.std()    \n",
    "    embed_size = all_embs.shape[1]\n",
    "    nb_words = min(max_features, len(word_index))\n",
    "    embedding_matrix = np.random.normal(emb_mean, emb_std, (nb_words, embed_size+2))\n",
    "    \n",
    "    count_found = nb_words\n",
    "    for word, i in tqdm(word_index.items()):\n",
    "        if i >= max_features: continue\n",
    "        embedding_vector = embeddings_index.get(word)\n",
    "        word_sent = TextBlob(word).sentiment\n",
    "        # Extra information we are passing to our embeddings\n",
    "        extra_embed = [word_sent.polarity,word_sent.subjectivity]\n",
    "        if embedding_vector is not None: \n",
    "            embedding_matrix[i] =  np.append(embedding_vector,extra_embed)\n",
    "        else:\n",
    "            if word.islower():\n",
    "                # Try to get the embedding of word in titlecase if lowercase is not present\n",
    "                embedding_vector = embeddings_index.get(word.capitalize())\n",
    "                if embedding_vector is not None: \n",
    "                    embedding_matrix[i] = np.append(embedding_vector,extra_embed)\n",
    "                else:\n",
    "                    embedding_matrix[i,300:] = extra_embed\n",
    "                    count_found-=1\n",
    "            else:\n",
    "                embedding_matrix[i,300:] = extra_embed\n",
    "                count_found-=1\n",
    "    print(\"Got embedding for \",count_found,\" words.\")\n",
    "    return embedding_matrix"
   ]
  },
  {
   "cell_type": "code",
   "execution_count": 51,
   "metadata": {},
   "outputs": [
    {
     "name": "stderr",
     "output_type": "stream",
     "text": [
      "/opt/conda/lib/python3.6/site-packages/ipykernel_launcher.py:3: FutureWarning: arrays to stack must be passed as a \"sequence\" type such as list or tuple. Support for non-sequence iterables such as generators is deprecated as of NumPy 1.16 and will raise an error in the future.\n",
      "  This is separate from the ipykernel package so we can avoid doing imports until\n",
      "100%|██████████| 195927/195927 [00:58<00:00, 3323.93it/s]\n"
     ]
    },
    {
     "name": "stdout",
     "output_type": "stream",
     "text": [
      "Got embedding for  101676  words.\n"
     ]
    }
   ],
   "source": [
    "# create enriched embedding matrix from our data\n",
    "embedding_matrix_plus = make_enriched_embed_matrix(word_index, embed_glove)"
   ]
  },
  {
   "cell_type": "code",
   "execution_count": 52,
   "metadata": {},
   "outputs": [
    {
     "name": "stdout",
     "output_type": "stream",
     "text": [
      "Enriched embedding matrix has 120000 words, and each word is represented by 302-dimensional vector.\n"
     ]
    }
   ],
   "source": [
    "# Set embedding size parmater to new value after enrichement\n",
    "embed_size_plus = np.shape(embedding_matrix_plus)[1]\n",
    "print(\"Enriched embedding matrix has {} words, and each word is represented by {}-dimensional vector.\"\n",
    "      .format(np.shape(embedding_matrix_plus)[0], embed_size_plus))"
   ]
  },
  {
   "cell_type": "markdown",
   "metadata": {},
   "source": [
    "This is function to create classical embedding matrix, without enrichment."
   ]
  },
  {
   "cell_type": "code",
   "execution_count": 53,
   "metadata": {},
   "outputs": [],
   "source": [
    "def make_embed_matrix(word_index,embeddings_index):\n",
    "    all_embs = np.stack(embeddings_index.values())\n",
    "    emb_mean,emb_std = all_embs.mean(), all_embs.std()\n",
    "    embed_size = all_embs.shape[1]\n",
    "    nb_words = min(max_features, len(word_index))\n",
    "    embedding_matrix = np.random.normal(emb_mean, emb_std, (nb_words, embed_size))\n",
    "    count_found = nb_words\n",
    "    for word, i in tqdm(word_index.items()):\n",
    "        if i >= max_features: continue\n",
    "        embedding_vector = embeddings_index.get(word)\n",
    "        if embedding_vector is not None: \n",
    "            embedding_matrix[i] =  embedding_vector\n",
    "        else:\n",
    "                count_found-=1\n",
    "    print(\"Got embedding for \",count_found,\" words.\")\n",
    "    return embedding_matrix"
   ]
  },
  {
   "cell_type": "code",
   "execution_count": 54,
   "metadata": {},
   "outputs": [
    {
     "name": "stderr",
     "output_type": "stream",
     "text": [
      "/opt/conda/lib/python3.6/site-packages/ipykernel_launcher.py:2: FutureWarning: arrays to stack must be passed as a \"sequence\" type such as list or tuple. Support for non-sequence iterables such as generators is deprecated as of NumPy 1.16 and will raise an error in the future.\n",
      "  \n",
      "100%|██████████| 195927/195927 [00:00<00:00, 431206.28it/s]\n"
     ]
    },
    {
     "name": "stdout",
     "output_type": "stream",
     "text": [
      "Got embedding for  99114  words.\n"
     ]
    }
   ],
   "source": [
    "embedding_matrix = make_embed_matrix(word_index, embed_glove)"
   ]
  },
  {
   "cell_type": "code",
   "execution_count": 55,
   "metadata": {},
   "outputs": [
    {
     "name": "stdout",
     "output_type": "stream",
     "text": [
      "Standard embedding matrix has 120000 words, and each word is represented by 300-dimensional vector.\n"
     ]
    }
   ],
   "source": [
    "print(\"Standard embedding matrix has {} words, and each word is represented by {}-dimensional vector.\"\n",
    "      .format(len(embedding_matrix), embed_size))"
   ]
  },
  {
   "cell_type": "code",
   "execution_count": 56,
   "metadata": {},
   "outputs": [
    {
     "data": {
      "text/plain": [
       "1487"
      ]
     },
     "execution_count": 56,
     "metadata": {},
     "output_type": "execute_result"
    }
   ],
   "source": [
    "gc.collect()"
   ]
  },
  {
   "cell_type": "markdown",
   "metadata": {},
   "source": [
    "Now we have everything ready to start modeling."
   ]
  },
  {
   "cell_type": "markdown",
   "metadata": {},
   "source": [
    "## Creating Deep Learning models"
   ]
  },
  {
   "cell_type": "markdown",
   "metadata": {},
   "source": [
    "Here we will define few Deep Learning models that perform well with NLP tasks. Typical configuration of used Deep Network is:\n",
    "\n",
    "![Arcitecture of LSTM Neural Network](../images/lstm.png \"LSTM\")"
   ]
  },
  {
   "cell_type": "markdown",
   "metadata": {},
   "source": [
    "#### Input\n",
    "The inputs into our networks are our list of encoded sentences. We begin our model by defining an Input layer that accepts a list of sentences that has a dimension of 70 (maxlen).\n",
    "> `inp = Input(shape=(maxlen,))`\n",
    "\n",
    "By indicating an empty space after comma, we are telling Keras to infer the number for size of sentences list automatically, that is our batch_size.\n",
    "\n",
    "#### Embedding layer\n",
    "With Embeddings we project the words to a defined vector space depending on the distance of the surrounding words in a sentence. Embedding allows us to reduce model size and most importantly the huge dimensions we have to deal with, in the case of using one-hot encoding to represent the words in our sentence.\n",
    "\n",
    "The output of the Embedding layer is just a list of the coordinates of the words in this vector space. \n",
    "\n",
    "We need to define the size of the \"vector space\" we have mentioned above, and the number of unique words(max_features) and the size of vector representing each word (embed_size) we are using. Again, the embedding size is a parameter that you can tune and experiment.\n",
    "\n",
    "> `x = Embedding(max_features, embed_size)(inp)`\n",
    "\n",
    "The embedding layer outputs a 3-D tensor of (None, 70, 300). Which is an array of sentences(None means that it's size is inferred), and for each word(70), there is an array of 300 coordinates in the vector space of embedding.\n",
    "\n",
    "#### LSTM\n",
    "LSTM in its core, preserves information from inputs that has already passed through it using the hidden state.\n",
    "\n",
    "Next, we feed this Tensor into the LSTM layer. We set the LSTM to produce an output that has a dimension of 60 and want it to return the whole unrolled sequence of results."
   ]
  },
  {
   "cell_type": "markdown",
   "metadata": {},
   "source": [
    "![](http://colah.github.io/posts/2015-08-Understanding-LSTMs/img/RNN-unrolled.png)"
   ]
  },
  {
   "cell_type": "markdown",
   "metadata": {},
   "source": [
    "From the above picture, the unrolled LSTM would give us a set of h0,h1,h2 until the last h.\n",
    "\n",
    "LSTM takes in a tensor of `[Batch Size, Time Steps, Number of Inputs]`. Batch size is the number of samples in a batch, time steps is the number of recursions it runs for each input, or it could be pictured as the number of \"A\"s in the above picture. Lastly, number of inputs is the number of variables(number of words in each sentence in our case) you pass into LSTM as pictured in \"x\" above.\n",
    "\n",
    "> `x = LSTM(60, return_sequences=True, name='lstm_layer')(x)`\n",
    "\n",
    "We can make use of the output from the previous embedding layer which outputs a 3-D tensor of (None, 70, 300) into the LSTM layer. What it does is going through the samples, recursively run the LSTM model for 70 times, passing in the coordinates of the words each time. And because we want the unrolled version, we will receive a Tensor shape of (None, 70, 60), where 60 is the output dimension we have defined."
   ]
  },
  {
   "cell_type": "markdown",
   "metadata": {},
   "source": [
    "#### Max Pooling\n",
    "Before we could pass the output to a normal layer, we need to reshape the 3D tensor into a 2D one. We reshape carefully to avoid throwing away data that is important to us, and ideally we want the resulting data to be a good representative of the original data.\n",
    "\n",
    "This is role of Global Max Pooling layer which is traditionally used in CNN problems to reduce the dimensionality of image data. In simple terms, we go through each patch of data, and we take the maximum values of each patch. These collection of maximum values will be a new set of down-sized data we can use.\n",
    "\n",
    "> `x = GlobalMaxPool1D()(x)`\n",
    "\n",
    "#### Dropout\n",
    "With a 2D Tensor in our hands, we pass it to a Dropout layer which indiscriminately \"disable\" some nodes so that the nodes in the next layer is forced to handle the representation of the missing data and the whole network could result in better generalization, i.e. less prone to overfitting. Again, Dropout value is parameter that we can tune and experiment.\n",
    "\n",
    "> `x = Dropout(0.1)(x)`"
   ]
  },
  {
   "cell_type": "markdown",
   "metadata": {},
   "source": [
    "#### Dense Layer\n",
    "After a drop out layer, we connect the output of drop out layer to a densely connected layer and the output passes through a RELU function. In short, this is what it does:\n",
    "\n",
    "$$Activation((Input \\times Weights) + Bias)$$\n",
    "\n",
    "We have defined the Dense layer to produce a output dimension of 50.\n",
    "\n",
    "> `x = Dense(16, activation=\"relu\")(x)`\n",
    "\n",
    "We feed the output into a Dropout layer again\n",
    "\n",
    "> `x = Dropout(0.1)(x)`\n",
    "\n",
    "#### Output\n",
    "Finally, we feed the output into a Sigmoid layer. The reason why sigmoid is used is because we are trying to achieve a binary classification(1,0) for our label, and the sigmoid function will squash the output between the bounds of 0 and 1.\n",
    "\n",
    "> `x = Dense(1, activation=\"sigmoid\")(x)`"
   ]
  },
  {
   "cell_type": "markdown",
   "metadata": {},
   "source": [
    "#### Compile\n",
    "All is left is to define the inputs, outputs and configure the learning process. We have set our model to optimize our loss function using `Adam` optimizer, define the loss function to be `\"binary_crossentropy\"` since we are tackling a binary classification.\n",
    "\n",
    ">`model = Model(inputs=inp, outputs=x)`\n",
    "\n",
    "> `model.compile(loss='binary_crossentropy', optimizer='adam', metrics=['accuracy'])`"
   ]
  },
  {
   "cell_type": "markdown",
   "metadata": {},
   "source": [
    "#### LSTM Model #1 Definition\n",
    "Unidirectional LSTM only preserves information of the past because the only inputs it has seen are from the past."
   ]
  },
  {
   "cell_type": "code",
   "execution_count": 57,
   "metadata": {},
   "outputs": [],
   "source": [
    "def model_lstm_uni(embedding_matrix, _dropout=0.1):\n",
    "    max_features = np.shape(embedding_matrix)[0]\n",
    "    embed_size = np.shape(embedding_matrix)[1]\n",
    "        \n",
    "    inp = Input(shape=(maxlen,))\n",
    "    x = Embedding(max_features, embed_size, weights=[embedding_matrix], trainable=False)(inp)\n",
    "    x = CuDNNLSTM(60, return_sequences=True, name='lstm_layer')(x) # GPU\n",
    "    #x = LSTM(60, return_sequences=True, name='lstm_layer')(x)     # CPU\n",
    "    x = GlobalMaxPool1D()(x)\n",
    "    x = Dropout(_dropout)(x)\n",
    "    x = Dense(50, activation=\"relu\")(x)\n",
    "    x = Dropout(_dropout)(x)\n",
    "    x = Dense(1, activation=\"sigmoid\")(x)\n",
    "    \n",
    "    model = Model(inputs=inp, outputs=x)\n",
    "    model.compile(loss='binary_crossentropy', \n",
    "                  optimizer='adam', \n",
    "                  metrics=['accuracy'])\n",
    "    \n",
    "    return model"
   ]
  },
  {
   "cell_type": "markdown",
   "metadata": {},
   "source": [
    "#### LSTM Model #2 Definition\n",
    "Bidirectional LSTM runs inputs in two ways, one from past to future and one from future to past. Bu using the two hidden states combined BiLSTM are able in any point in time to preserve information from both past and future."
   ]
  },
  {
   "cell_type": "code",
   "execution_count": 58,
   "metadata": {},
   "outputs": [],
   "source": [
    "def model_lstm_bi(embedding_matrix, _dropout=0.1):\n",
    "    max_features = np.shape(embedding_matrix)[0]\n",
    "    embed_size = np.shape(embedding_matrix)[1]\n",
    "        \n",
    "    inp = Input(shape=(maxlen,))\n",
    "    x = Embedding(max_features, embed_size, weights=[embedding_matrix], trainable=False)(inp)\n",
    "    x = Bidirectional(CuDNNLSTM(60, return_sequences=True, name='lstm_layer'))(x) # GPU\n",
    "    #x = Bidirectional(LSTM(60, return_sequences=True, name='lstm_layer'))(x)     # CPU\n",
    "    x = GlobalMaxPool1D()(x)\n",
    "    x = Dropout(_dropout)(x)\n",
    "    x = Dense(50, activation=\"relu\")(x)\n",
    "    x = Dropout(_dropout)(x)\n",
    "    x = Dense(1, activation=\"sigmoid\")(x)\n",
    "    \n",
    "    model = Model(inputs=inp, outputs=x)\n",
    "    model.compile(loss='binary_crossentropy', \n",
    "                  optimizer='adam', \n",
    "                  metrics=['accuracy'])\n",
    "    \n",
    "    return model"
   ]
  },
  {
   "cell_type": "markdown",
   "metadata": {},
   "source": [
    "#### Helper Functions"
   ]
  },
  {
   "cell_type": "code",
   "execution_count": 59,
   "metadata": {},
   "outputs": [],
   "source": [
    "def bestThresshold(y_train,train_preds):\n",
    "    tmp = [0,0,0] # idx, cur, max\n",
    "    delta = 0\n",
    "    for tmp[0] in np.arange(0.1, 0.501, 0.01):\n",
    "        tmp[1] = metrics.f1_score(y_train, np.array(train_preds)>tmp[0])\n",
    "        if tmp[1] > tmp[2]:\n",
    "            delta = tmp[0]\n",
    "            tmp[2] = tmp[1]\n",
    "    print('best threshold is {:.4f} with F1 score: {:.4f}'.format(delta, tmp[2]))\n",
    "    return delta , tmp[2]"
   ]
  },
  {
   "cell_type": "code",
   "execution_count": 60,
   "metadata": {
    "_uuid": "e8523d876b6eae762e673b777cc7af4d7f085792"
   },
   "outputs": [],
   "source": [
    "# https://www.kaggle.com/strideradu/word2vec-and-gensim-go-go-go\n",
    "def train_pred(model, n_epochs=1):\n",
    "    model.fit(X_train, y_train, batch_size=512, epochs=n_epochs, validation_data=(X_val, y_val))\n",
    "    pred_y_val = model.predict([X_val], batch_size=1024, verbose=1)\n",
    "\n",
    "    theshold, score = bestThresshold(y_val, pred_y_val)\n",
    "    \n",
    "    return pred_val_y, score"
   ]
  },
  {
   "cell_type": "code",
   "execution_count": 61,
   "metadata": {},
   "outputs": [],
   "source": [
    "def plot_history(history):\n",
    "    fig = plt.figure(figsize=(12,6)) \n",
    "    \n",
    "    # summarize history for accuracy\n",
    "    plt.subplot(1,2,1)\n",
    "    plt.plot(history.history['acc'])\n",
    "    plt.plot(history.history['val_acc'])\n",
    "    plt.title('model accuracy')\n",
    "    plt.ylabel('accuracy')\n",
    "    plt.xlabel('epoch')\n",
    "    plt.legend(['train', 'val'], loc='upper left')\n",
    "\n",
    "    # summarize history for loss\n",
    "    plt.subplot(1,2,2)\n",
    "    plt.plot(history.history['loss'])\n",
    "    plt.plot(history.history['val_loss'])\n",
    "    plt.title('model loss')\n",
    "    plt.ylabel('loss')\n",
    "    plt.xlabel('epoch')\n",
    "    plt.legend(['train', 'val'], loc='upper left')\n",
    "    \n",
    "    plt.show()"
   ]
  },
  {
   "cell_type": "markdown",
   "metadata": {},
   "source": [
    "## Experimenting\n",
    "Let's start training models and check performance."
   ]
  },
  {
   "cell_type": "markdown",
   "metadata": {},
   "source": [
    "### LSTM"
   ]
  },
  {
   "cell_type": "code",
   "execution_count": 62,
   "metadata": {},
   "outputs": [
    {
     "name": "stdout",
     "output_type": "stream",
     "text": [
      "WARNING:tensorflow:From /opt/conda/lib/python3.6/site-packages/tensorflow/python/framework/op_def_library.py:263: colocate_with (from tensorflow.python.framework.ops) is deprecated and will be removed in a future version.\n",
      "Instructions for updating:\n",
      "Colocations handled automatically by placer.\n",
      "WARNING:tensorflow:From /opt/conda/lib/python3.6/site-packages/keras/backend/tensorflow_backend.py:3445: calling dropout (from tensorflow.python.ops.nn_ops) with keep_prob is deprecated and will be removed in a future version.\n",
      "Instructions for updating:\n",
      "Please use `rate` instead of `keep_prob`. Rate should be set to `rate = 1 - keep_prob`.\n",
      "_________________________________________________________________\n",
      "Layer (type)                 Output Shape              Param #   \n",
      "=================================================================\n",
      "input_1 (InputLayer)         (None, 70)                0         \n",
      "_________________________________________________________________\n",
      "embedding_1 (Embedding)      (None, 70, 300)           36000000  \n",
      "_________________________________________________________________\n",
      "lstm_layer (CuDNNLSTM)       (None, 70, 60)            86880     \n",
      "_________________________________________________________________\n",
      "global_max_pooling1d_1 (Glob (None, 60)                0         \n",
      "_________________________________________________________________\n",
      "dropout_1 (Dropout)          (None, 60)                0         \n",
      "_________________________________________________________________\n",
      "dense_1 (Dense)              (None, 50)                3050      \n",
      "_________________________________________________________________\n",
      "dropout_2 (Dropout)          (None, 50)                0         \n",
      "_________________________________________________________________\n",
      "dense_2 (Dense)              (None, 1)                 51        \n",
      "=================================================================\n",
      "Total params: 36,089,981\n",
      "Trainable params: 89,981\n",
      "Non-trainable params: 36,000,000\n",
      "_________________________________________________________________\n",
      "None\n"
     ]
    }
   ],
   "source": [
    "lstm_uni = model_lstm_uni(embedding_matrix)\n",
    "print(lstm_uni.summary())"
   ]
  },
  {
   "cell_type": "code",
   "execution_count": 63,
   "metadata": {
    "_kg_hide-input": false
   },
   "outputs": [
    {
     "name": "stdout",
     "output_type": "stream",
     "text": [
      "WARNING:tensorflow:From /opt/conda/lib/python3.6/site-packages/tensorflow/python/ops/math_ops.py:3066: to_int32 (from tensorflow.python.ops.math_ops) is deprecated and will be removed in a future version.\n",
      "Instructions for updating:\n",
      "Use tf.cast instead.\n",
      "WARNING:tensorflow:From /opt/conda/lib/python3.6/site-packages/tensorflow/python/ops/math_grad.py:102: div (from tensorflow.python.ops.math_ops) is deprecated and will be removed in a future version.\n",
      "Instructions for updating:\n",
      "Deprecated in favor of operator or tf.math.divide.\n",
      "Train on 1201632 samples, validate on 104490 samples\n",
      "Epoch 1/5\n",
      "1201632/1201632 [==============================] - 28s 24us/step - loss: 0.1188 - acc: 0.9537 - val_loss: 0.1057 - val_acc: 0.9573\n",
      "Epoch 2/5\n",
      "1201632/1201632 [==============================] - 25s 21us/step - loss: 0.1052 - acc: 0.9585 - val_loss: 0.1021 - val_acc: 0.9590\n",
      "Epoch 3/5\n",
      "1201632/1201632 [==============================] - 25s 21us/step - loss: 0.1008 - acc: 0.9599 - val_loss: 0.1009 - val_acc: 0.9587\n",
      "Epoch 4/5\n",
      "1201632/1201632 [==============================] - 25s 21us/step - loss: 0.0976 - acc: 0.9611 - val_loss: 0.0991 - val_acc: 0.9599\n",
      "Epoch 5/5\n",
      "1201632/1201632 [==============================] - 25s 21us/step - loss: 0.0950 - acc: 0.9618 - val_loss: 0.0984 - val_acc: 0.9600\n"
     ]
    }
   ],
   "source": [
    "history = lstm_uni.fit(X_train, y_train, batch_size=512, epochs=5, validation_data=(X_val, y_val))"
   ]
  },
  {
   "cell_type": "code",
   "execution_count": 64,
   "metadata": {},
   "outputs": [
    {
     "name": "stdout",
     "output_type": "stream",
     "text": [
      "104490/104490 [==============================] - 1s 8us/step\n",
      "best threshold is 0.3600 with F1 score: 0.6820\n"
     ]
    }
   ],
   "source": [
    "pred_y_val = lstm_uni.predict([X_val], batch_size=1024, verbose=1)\n",
    "delta, _ = bestThresshold(y_val, pred_y_val)"
   ]
  },
  {
   "cell_type": "markdown",
   "metadata": {},
   "source": [
    "We've got **F1-Score of 0.6802** without any tuning! This is great improvement over classical machine learning models which we explored in previous kernel and shows power of embeeding and Deep Learning in NLP tasks."
   ]
  },
  {
   "cell_type": "code",
   "execution_count": 65,
   "metadata": {},
   "outputs": [
    {
     "data": {
      "image/png": "[encoded data removed]",
      "text/plain": [
       "<Figure size 864x432 with 2 Axes>"
      ]
     },
     "metadata": {},
     "output_type": "display_data"
    }
   ],
   "source": [
    "plot_history(history)"
   ]
  },
  {
   "cell_type": "markdown",
   "metadata": {},
   "source": [
    "### LSTM + enriched embeddings"
   ]
  },
  {
   "cell_type": "code",
   "execution_count": 66,
   "metadata": {},
   "outputs": [
    {
     "name": "stdout",
     "output_type": "stream",
     "text": [
      "_________________________________________________________________\n",
      "Layer (type)                 Output Shape              Param #   \n",
      "=================================================================\n",
      "input_2 (InputLayer)         (None, 70)                0         \n",
      "_________________________________________________________________\n",
      "embedding_2 (Embedding)      (None, 70, 302)           36240000  \n",
      "_________________________________________________________________\n",
      "lstm_layer (CuDNNLSTM)       (None, 70, 60)            87360     \n",
      "_________________________________________________________________\n",
      "global_max_pooling1d_2 (Glob (None, 60)                0         \n",
      "_________________________________________________________________\n",
      "dropout_3 (Dropout)          (None, 60)                0         \n",
      "_________________________________________________________________\n",
      "dense_3 (Dense)              (None, 50)                3050      \n",
      "_________________________________________________________________\n",
      "dropout_4 (Dropout)          (None, 50)                0         \n",
      "_________________________________________________________________\n",
      "dense_4 (Dense)              (None, 1)                 51        \n",
      "=================================================================\n",
      "Total params: 36,330,461\n",
      "Trainable params: 90,461\n",
      "Non-trainable params: 36,240,000\n",
      "_________________________________________________________________\n",
      "None\n"
     ]
    }
   ],
   "source": [
    "lstm_uni_enric = model_lstm_uni(embedding_matrix_plus)\n",
    "print(lstm_uni_enric.summary())"
   ]
  },
  {
   "cell_type": "code",
   "execution_count": 67,
   "metadata": {},
   "outputs": [
    {
     "name": "stdout",
     "output_type": "stream",
     "text": [
      "Train on 1201632 samples, validate on 104490 samples\n",
      "Epoch 1/4\n",
      "1201632/1201632 [==============================] - 27s 22us/step - loss: 0.1177 - acc: 0.9541 - val_loss: 0.1052 - val_acc: 0.9577\n",
      "Epoch 2/4\n",
      "1201632/1201632 [==============================] - 26s 22us/step - loss: 0.1048 - acc: 0.9585 - val_loss: 0.1012 - val_acc: 0.9594\n",
      "Epoch 3/4\n",
      "1201632/1201632 [==============================] - 27s 22us/step - loss: 0.1005 - acc: 0.9600 - val_loss: 0.1000 - val_acc: 0.9596\n",
      "Epoch 4/4\n",
      "1201632/1201632 [==============================] - 26s 22us/step - loss: 0.0973 - acc: 0.9610 - val_loss: 0.0989 - val_acc: 0.9599\n"
     ]
    }
   ],
   "source": [
    "history = lstm_uni_enric.fit(X_train, y_train, batch_size=512, epochs=4, validation_data=(X_val, y_val))"
   ]
  },
  {
   "cell_type": "code",
   "execution_count": 68,
   "metadata": {},
   "outputs": [
    {
     "name": "stdout",
     "output_type": "stream",
     "text": [
      "104490/104490 [==============================] - 1s 9us/step\n",
      "best threshold is 0.2700 with F1 score: 0.6802\n"
     ]
    }
   ],
   "source": [
    "pred_y_val = lstm_uni_enric.predict([X_val], batch_size=1024, verbose=1)\n",
    "delta, _ = bestThresshold(y_val, pred_y_val)"
   ]
  },
  {
   "cell_type": "markdown",
   "metadata": {},
   "source": [
    "We've got **F1-Score of 0.6820** without any tuning and only 4 epochs! Comparing to first model, we see that enriched embedding give small boost in performance. Let's try with larger Dropout rate, to be less prone to overfitting."
   ]
  },
  {
   "cell_type": "code",
   "execution_count": 69,
   "metadata": {},
   "outputs": [
    {
     "data": {
      "image/png": "[encoded data removed]",
      "text/plain": [
       "<Figure size 864x432 with 2 Axes>"
      ]
     },
     "metadata": {},
     "output_type": "display_data"
    }
   ],
   "source": [
    "plot_history(history)\n"
   ]
  },
  {
   "cell_type": "markdown",
   "metadata": {},
   "source": [
    "### LSTM + enriched embeddings + Dropout(0.5)"
   ]
  },
  {
   "cell_type": "code",
   "execution_count": 70,
   "metadata": {},
   "outputs": [
    {
     "name": "stdout",
     "output_type": "stream",
     "text": [
      "_________________________________________________________________\n",
      "Layer (type)                 Output Shape              Param #   \n",
      "=================================================================\n",
      "input_2 (InputLayer)         (None, 70)                0         \n",
      "_________________________________________________________________\n",
      "embedding_2 (Embedding)      (None, 70, 302)           36240000  \n",
      "_________________________________________________________________\n",
      "lstm_layer (CuDNNLSTM)       (None, 70, 60)            87360     \n",
      "_________________________________________________________________\n",
      "global_max_pooling1d_2 (Glob (None, 60)                0         \n",
      "_________________________________________________________________\n",
      "dropout_3 (Dropout)          (None, 60)                0         \n",
      "_________________________________________________________________\n",
      "dense_3 (Dense)              (None, 50)                3050      \n",
      "_________________________________________________________________\n",
      "dropout_4 (Dropout)          (None, 50)                0         \n",
      "_________________________________________________________________\n",
      "dense_4 (Dense)              (None, 1)                 51        \n",
      "=================================================================\n",
      "Total params: 36,330,461\n",
      "Trainable params: 90,461\n",
      "Non-trainable params: 36,240,000\n",
      "_________________________________________________________________\n",
      "None\n"
     ]
    }
   ],
   "source": [
    "lstm_uni_enric_drop = model_lstm_uni(embedding_matrix_plus, _dropout=0.5)\n",
    "print(lstm_uni_enric.summary())"
   ]
  },
  {
   "cell_type": "code",
   "execution_count": 71,
   "metadata": {},
   "outputs": [
    {
     "name": "stdout",
     "output_type": "stream",
     "text": [
      "Train on 1201632 samples, validate on 104490 samples\n",
      "Epoch 1/5\n",
      "1201632/1201632 [==============================] - 27s 22us/step - loss: 0.1284 - acc: 0.9511 - val_loss: 0.1085 - val_acc: 0.9558\n",
      "Epoch 2/5\n",
      "1201632/1201632 [==============================] - 26s 22us/step - loss: 0.1130 - acc: 0.9559 - val_loss: 0.1045 - val_acc: 0.9579\n",
      "Epoch 3/5\n",
      "1201632/1201632 [==============================] - 26s 22us/step - loss: 0.1089 - acc: 0.9573 - val_loss: 0.1027 - val_acc: 0.9585\n",
      "Epoch 4/5\n",
      "1201632/1201632 [==============================] - 26s 22us/step - loss: 0.1060 - acc: 0.9582 - val_loss: 0.1045 - val_acc: 0.9585\n",
      "Epoch 5/5\n",
      "1201632/1201632 [==============================] - 26s 22us/step - loss: 0.1040 - acc: 0.9588 - val_loss: 0.1019 - val_acc: 0.9587\n"
     ]
    }
   ],
   "source": [
    "history = lstm_uni_enric_drop.fit(X_train, y_train, batch_size=512, epochs=5, validation_data=(X_val, y_val))"
   ]
  },
  {
   "cell_type": "code",
   "execution_count": 72,
   "metadata": {},
   "outputs": [
    {
     "name": "stdout",
     "output_type": "stream",
     "text": [
      "104490/104490 [==============================] - 1s 9us/step\n",
      "best threshold is 0.2500 with F1 score: 0.6768\n"
     ]
    }
   ],
   "source": [
    "pred_y_val = lstm_uni_enric_drop.predict([X_val], batch_size=1024, verbose=1)\n",
    "delta, _ = bestThresshold(y_val, pred_y_val)"
   ]
  },
  {
   "cell_type": "code",
   "execution_count": 73,
   "metadata": {},
   "outputs": [
    {
     "data": {
      "image/png": "[encoded data removed]",
      "text/plain": [
       "<Figure size 864x432 with 2 Axes>"
      ]
     },
     "metadata": {},
     "output_type": "display_data"
    }
   ],
   "source": [
    "plot_history(history)\n"
   ]
  },
  {
   "cell_type": "markdown",
   "metadata": {},
   "source": [
    "We've got **F1-Score of 0.6768** with increased Dropout and 5 epochs. By looking at the loss we see that it is decreasing so we need could use more epochs. We also see training and validation curves converging which means that the model is not overfitting to the training set and could be trained oevr more epochs.\n",
    "\n",
    "Comparing to previous model, we've got small decrease in performance. Let's try with bidirectional LSTM."
   ]
  },
  {
   "cell_type": "markdown",
   "metadata": {},
   "source": [
    "### Bidictional LSTM + enriched embeddings"
   ]
  },
  {
   "cell_type": "code",
   "execution_count": 74,
   "metadata": {},
   "outputs": [
    {
     "name": "stdout",
     "output_type": "stream",
     "text": [
      "_________________________________________________________________\n",
      "Layer (type)                 Output Shape              Param #   \n",
      "=================================================================\n",
      "input_4 (InputLayer)         (None, 70)                0         \n",
      "_________________________________________________________________\n",
      "embedding_4 (Embedding)      (None, 70, 302)           36240000  \n",
      "_________________________________________________________________\n",
      "bidirectional_1 (Bidirection (None, 70, 120)           174720    \n",
      "_________________________________________________________________\n",
      "global_max_pooling1d_4 (Glob (None, 120)               0         \n",
      "_________________________________________________________________\n",
      "dropout_7 (Dropout)          (None, 120)               0         \n",
      "_________________________________________________________________\n",
      "dense_7 (Dense)              (None, 50)                6050      \n",
      "_________________________________________________________________\n",
      "dropout_8 (Dropout)          (None, 50)                0         \n",
      "_________________________________________________________________\n",
      "dense_8 (Dense)              (None, 1)                 51        \n",
      "=================================================================\n",
      "Total params: 36,420,821\n",
      "Trainable params: 180,821\n",
      "Non-trainable params: 36,240,000\n",
      "_________________________________________________________________\n",
      "None\n"
     ]
    }
   ],
   "source": [
    "lstm_bi_enric = model_lstm_bi(embedding_matrix_plus)\n",
    "print(lstm_bi_enric.summary())"
   ]
  },
  {
   "cell_type": "code",
   "execution_count": 75,
   "metadata": {},
   "outputs": [
    {
     "name": "stdout",
     "output_type": "stream",
     "text": [
      "Train on 1201632 samples, validate on 104490 samples\n",
      "Epoch 1/5\n",
      "1201632/1201632 [==============================] - 49s 41us/step - loss: 0.1155 - acc: 0.9548 - val_loss: 0.1027 - val_acc: 0.9588\n",
      "Epoch 2/5\n",
      "1201632/1201632 [==============================] - 48s 40us/step - loss: 0.1021 - acc: 0.9592 - val_loss: 0.0993 - val_acc: 0.9603\n",
      "Epoch 3/5\n",
      "1201632/1201632 [==============================] - 48s 40us/step - loss: 0.0968 - acc: 0.9611 - val_loss: 0.0983 - val_acc: 0.9604\n",
      "Epoch 4/5\n",
      "1201632/1201632 [==============================] - 48s 40us/step - loss: 0.0930 - acc: 0.9624 - val_loss: 0.0972 - val_acc: 0.9608\n",
      "Epoch 5/5\n",
      "1201632/1201632 [==============================] - 48s 40us/step - loss: 0.0892 - acc: 0.9639 - val_loss: 0.0967 - val_acc: 0.9610\n"
     ]
    }
   ],
   "source": [
    "history = lstm_bi_enric.fit(X_train, y_train, batch_size=512, epochs=5, validation_data=(X_val, y_val))"
   ]
  },
  {
   "cell_type": "code",
   "execution_count": 76,
   "metadata": {},
   "outputs": [
    {
     "name": "stdout",
     "output_type": "stream",
     "text": [
      "104490/104490 [==============================] - 2s 16us/step\n",
      "best threshold is 0.3800 with F1 score: 0.6904\n"
     ]
    }
   ],
   "source": [
    "pred_y_val = lstm_bi_enric.predict([X_val], batch_size=1024, verbose=1)\n",
    "delta, _ = bestThresshold(y_val, pred_y_val)"
   ]
  },
  {
   "cell_type": "code",
   "execution_count": 77,
   "metadata": {},
   "outputs": [
    {
     "data": {
      "image/png": "[encoded data removed]",
      "text/plain": [
       "<Figure size 864x432 with 2 Axes>"
      ]
     },
     "metadata": {},
     "output_type": "display_data"
    }
   ],
   "source": [
    "plot_history(history)"
   ]
  },
  {
   "cell_type": "markdown",
   "metadata": {},
   "source": [
    "We've got best score yet **F1-Score of 0.6904** with Bidirectional LSTM without tuning and only 5 epochs. By looking at the loss we see that it is decreasing so we need could use more epochs, but we also see training and validation curves diverging which means that the model is overfitting to the training set, so we should tune Dropout in combination with more epochs."
   ]
  },
  {
   "cell_type": "markdown",
   "metadata": {},
   "source": [
    "## Parameter tuning for a LSTM with Hyperopt\n",
    "\n",
    "When considering tuning parameters for LSTM we could think about tuning the following:\n",
    "* choice of embeddings to use\n",
    "* batchsize\n",
    "* network architecture\n",
    "    * LSTM hidden state size\n",
    "    * LSTM layer number\n",
    "    * Dropout rate \n",
    "    * Dense layer\n",
    "\n",
    "Below are functions for tuning the network in such way, but due to time and resource constraints this exercise was not done."
   ]
  },
  {
   "cell_type": "code",
   "execution_count": null,
   "metadata": {},
   "outputs": [],
   "source": [
    "def model_lstm_bi_tuning(embedding_matrix, _LSTM_states=60, _dropout=0.1, _dense=50):\n",
    "    max_features = np.shape(embedding_matrix)[0]\n",
    "    embed_size = np.shape(embedding_matrix)[1]\n",
    "        \n",
    "    inp = Input(shape=(maxlen,))\n",
    "    x = Embedding(max_features, embed_size, weights=[embedding_matrix], trainable=False)(inp)\n",
    "    x = Bidirectional(CuDNNLSTM(60, return_sequences=True, name='lstm_layer'))(x) # GPU\n",
    "    #x = Bidirectional(LSTM(60, return_sequences=True, name='lstm_layer'))(x)     # CPU\n",
    "    x = GlobalMaxPool1D()(x)\n",
    "    x = Dropout(_dropout)(x)\n",
    "    x = Dense(50, activation=\"relu\")(x)\n",
    "    x = Dropout(_dropout)(x)\n",
    "    x = Dense(1, activation=\"sigmoid\")(x)\n",
    "    \n",
    "    model = Model(inputs=inp, outputs=x)\n",
    "    model.compile(loss='binary_crossentropy', \n",
    "                  optimizer='adam', \n",
    "                  metrics=['accuracy'])\n",
    "    \n",
    "    return model"
   ]
  },
  {
   "cell_type": "code",
   "execution_count": null,
   "metadata": {
    "_cell_guid": "5fd52781-cf9a-4299-8d35-93800e90a36d",
    "_uuid": "958d1109036581199cea00cd75cd7451a6f48f7d",
    "scrolled": true
   },
   "outputs": [],
   "source": [
    "def objective(params):\n",
    "    # extract parameters for evaluation\n",
    "    embedding_matrix = params['embedding_matrix']\n",
    "    batch_size = int(params['batch_size'])\n",
    "    _LSTM_states = int(params['_LSTM_states'])\n",
    "    _dropout = params['_dropout']\n",
    "    _dense = params['_dense']\n",
    "        \n",
    "    # create model with parametrised acrhitecture\n",
    "    model = model_lstm_bi_tuning(embedding_matrix, _LSTM_states, _dropout, _dense)\n",
    "    \n",
    "    # fit model with cross-validation\n",
    "    model.fit(X_train, y_train, batch_size=batch_size, epochs=5, validation_data=(X_val, y_val))\n",
    "    \n",
    "    # predict on validation set\n",
    "    pred_y_val = model.predict([X_val], batch_size=1024, verbose=1)\n",
    "    delta, score = bestThresshold(y_val, pred_y_val)\n",
    "\n",
    "    loss = 1 - score  # objective function returns loss to be minimized\n",
    "    print(\"Loss {:.3f} params {}\".format(loss, params))\n",
    "      \n",
    "    return loss"
   ]
  },
  {
   "cell_type": "code",
   "execution_count": null,
   "metadata": {},
   "outputs": [],
   "source": [
    "space = {\n",
    "    'embedding_matrix': hp.choice('embedding_matrix': [embedding_matrix, embedding_matrix_plus]),\n",
    "    'batch_size': hp.quniform('batch_size', 128, 2048, 128),\n",
    "    '_LSTM_states': hp.quniform('_LSTM_states', 20, 70, 5),\n",
    "    '_dropout': hp.quniform('_dropout', 0.1, 0.8, 0.1),\n",
    "    '_dense': hp.quniform('_dense', 20, 50, 5)\n",
    "}\n",
    "\n",
    "best_lgm = fmin(fn=objective,\n",
    "            space=space,\n",
    "            algo=tpe.suggest,\n",
    "            max_evals=100)"
   ]
  },
  {
   "cell_type": "markdown",
   "metadata": {},
   "source": [
    "## Conclusion"
   ]
  },
  {
   "cell_type": "markdown",
   "metadata": {},
   "source": [
    "LSTM Neural Networks in combination with embeddings give significant boost in performance over conventional methods (TDIDF, CountVectors, Hashing) and classical machine learning algorithms.\n",
    "\n",
    "By tuning network architecture better results can be achieved, but it takes a lot of time.\n",
    "\n",
    "To furhter explore possibilities we could:\n",
    "* tune hyper-parameters by running Bayes optimization of GPU enabled server\n",
    "* experiment with different architectures: GRU, Extra features after BiLSTM, ...\n",
    "* train on more epochs and introduce early stopping\n",
    "* configure ensembles of multiple algorithms after tuning them\n"
   ]
  }
 ],
 "metadata": {
  "kernelspec": {
   "display_name": "Python 3",
   "language": "python",
   "name": "python3"
  },
  "language_info": {
   "codemirror_mode": {
    "name": "ipython",
    "version": 3
   },
   "file_extension": ".py",
   "mimetype": "text/x-python",
   "name": "python",
   "nbconvert_exporter": "python",
   "pygments_lexer": "ipython3",
   "version": "3.7.2"
  }
 },
 "nbformat": 4,
 "nbformat_minor": 2
}
